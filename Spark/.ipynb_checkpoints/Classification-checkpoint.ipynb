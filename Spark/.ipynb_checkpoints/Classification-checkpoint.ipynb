{
 "cells": [
  {
   "cell_type": "code",
   "execution_count": 1,
   "metadata": {},
   "outputs": [],
   "source": [
    "from pyspark.sql import SparkSession\n",
    "from pyspark.sql.functions import when\n",
    "from pyspark.ml.feature import VectorAssembler, StandardScaler\n",
    "from pyspark.ml.classification import LogisticRegression\n",
    "from pyspark.ml.evaluation import BinaryClassificationEvaluator\n",
    "\n",
    "spark = SparkSession.builder.getOrCreate()"
   ]
  },
  {
   "cell_type": "code",
   "execution_count": 2,
   "metadata": {},
   "outputs": [],
   "source": [
    "df_train = spark.read.option('inferSchema', 'true').csv('Classification_Train.csv', header = True)\n",
    "df_test = spark.read.option('inferSchema', 'true').csv('Classification_Test.csv', header = True)"
   ]
  },
  {
   "cell_type": "code",
   "execution_count": 3,
   "metadata": {},
   "outputs": [
    {
     "name": "stdout",
     "output_type": "stream",
     "text": [
      "+-------------------+------+------+---------------+---------+-------+-------------+---------+\n",
      "|               Name|Gender|Height|Education Level|Eye Color|Married|Salary Income|Depressed|\n",
      "+-------------------+------+------+---------------+---------+-------+-------------+---------+\n",
      "|      Sax Tesseyman|Female|   174|   Intermediate|     Blue|    Yes|     85000000|       No|\n",
      "|        Niels Greet|  Male|   165|   Intermediate|    Black|     No|     14000000|       No|\n",
      "|     Minetta Santry|Female|   160|            Low|    Black|     No|    148000000|      Yes|\n",
      "|     Sherm Gossipin|Female|   144|           High|    Black|     No|     50000000|      Yes|\n",
      "|   Cathie Blackmuir|  Male|   168|   Intermediate|    Black|    Yes|    101000000|       No|\n",
      "|     Early Cardenas|  Male|   151|            Low|    Black|    Yes|    145000000|      Yes|\n",
      "|   Willard Pendrick|Female|   141|   Intermediate|    Brown|     No|     55000000|      Yes|\n",
      "|   Penelopa Spensly|Female|   144|   Intermediate|     Blue|    Yes|     51000000|       No|\n",
      "|     Courtney Easey|Female|   150|           High|     Gray|     No|     97000000|      Yes|\n",
      "|     Denney Eustice|  Male|   151|            Low|    Brown|     No|     41000000|      Yes|\n",
      "|   Archaimbaud Zupa|Female|   161|           High|    Brown|    Yes|     27000000|       No|\n",
      "|       Dylan Pratty|  Male|   163|           High|    Black|    Yes|      3000000|       No|\n",
      "|      Milli Brinded|Female|   174|           High|    Brown|     No|      9000000|      Yes|\n",
      "|   Kacie Giacomazzo|Female|   153|   Intermediate|    Brown|     No|     12000000|      Yes|\n",
      "|  Doretta Siegertsz|  Male|   153|   Intermediate|    Black|    Yes|     81000000|       No|\n",
      "|   Fiorenze Seavers|  Male|   174|           High|     Blue|     No|     53000000|      Yes|\n",
      "|  Harriette Denning|  Male|   169|            Low|     Gray|     No|     10000000|      Yes|\n",
      "| Bidget Rosenschein|  Male|   155|   Intermediate|    Black|    Yes|     55000000|       No|\n",
      "|Barbara-anne McNuff|Female|   147|           High|     Gray|     No|     13000000|      Yes|\n",
      "|    Arielle Squeers|  Male|   182|           High|    Brown|     No|     35000000|      Yes|\n",
      "+-------------------+------+------+---------------+---------+-------+-------------+---------+\n",
      "only showing top 20 rows\n",
      "\n"
     ]
    }
   ],
   "source": [
    "df_train.show()"
   ]
  },
  {
   "cell_type": "code",
   "execution_count": 4,
   "metadata": {},
   "outputs": [
    {
     "name": "stdout",
     "output_type": "stream",
     "text": [
      "+------------------+------+------+---------------+---------+-------+-------------+---------+\n",
      "|              Name|Gender|Height|Education Level|Eye Color|Married|Salary Income|Depressed|\n",
      "+------------------+------+------+---------------+---------+-------+-------------+---------+\n",
      "|      Lila Bracher|  Male|   151|            Low|    Black|     No|     74000000|      Yes|\n",
      "|  Archibaldo Bigly|  Male|   162|           High|     Blue|    Yes|     29000000|       No|\n",
      "|      Dion Stopher|  Male|   155|   Intermediate|    Brown|    Yes|    134000000|       No|\n",
      "|    Genna Hallagan|  Male|   143|   Intermediate|     Blue|     No|     13000000|      Yes|\n",
      "|         Alis Fass|Female|   163|            Low|     Blue|    Yes|      7000000|      Yes|\n",
      "|Ellene Cumberbatch|Female|   150|   Intermediate|     Gray|     No|    106000000|      Yes|\n",
      "| Ardella Rossander|  Male|   153|           High|     Gray|     No|     35000000|      Yes|\n",
      "|  Wallache Wandtke|Female|   183|           High|     Gray|    Yes|    124000000|       No|\n",
      "|    Deedee Rembaud|  Male|   156|            Low|    Black|     No|      7000000|      Yes|\n",
      "|    Garrett Siward|  Male|   184|            Low|    Black|     No|    122000000|      Yes|\n",
      "|  Joceline Heasman|Female|   145|           High|    Black|     No|    109000000|      Yes|\n",
      "|     Brana Tudhope|  Male|   175|   Intermediate|     Gray|    Yes|    136000000|       No|\n",
      "|       Ignace Wall|  Male|   157|            Low|     Gray|    Yes|      4000000|       No|\n",
      "|   Kerwinn Mayston|  Male|   178|   Intermediate|    Brown|    Yes|     18000000|       No|\n",
      "|    Agnesse Ulyatt|  Male|   183|   Intermediate|    Brown|    Yes|     35000000|       No|\n",
      "|  Alika Kleinberer|Female|   141|           High|    Black|     No|     73000000|       No|\n",
      "|    Hermann Povall|  Male|   160|           High|     Gray|    Yes|     60000000|       No|\n",
      "|Simonette Roullier|Female|   176|            Low|    Black|     No|     57000000|      Yes|\n",
      "|      Fredi Varlow|Female|   163|            Low|     Blue|     No|     57000000|      Yes|\n",
      "|      Baxy Hugenin|  Male|   145|   Intermediate|    Brown|    Yes|     84000000|       No|\n",
      "+------------------+------+------+---------------+---------+-------+-------------+---------+\n",
      "only showing top 20 rows\n",
      "\n"
     ]
    }
   ],
   "source": [
    "df_test.show()"
   ]
  },
  {
   "cell_type": "code",
   "execution_count": 5,
   "metadata": {},
   "outputs": [],
   "source": [
    "df_train = df_train.select('Education Level', 'Married', 'Salary Income', 'Depressed')\n",
    "df_test = df_test .select('Education Level', 'Married', 'Salary Income', 'Depressed')"
   ]
  },
  {
   "cell_type": "code",
   "execution_count": 6,
   "metadata": {},
   "outputs": [],
   "source": [
    "df_train = df_train.na.drop()\n",
    "df_test = df_test.na.drop()"
   ]
  },
  {
   "cell_type": "code",
   "execution_count": 7,
   "metadata": {},
   "outputs": [],
   "source": [
    "def transform(df):\n",
    "    df = df.withColumn(\"Education Level\", when(df['Education Level'] == 'Low', 0).when(df['Education Level'] == 'Intermediate', 1).otherwise(2))\n",
    "    df = df.withColumn(\"Married\", when(df['Married'] == 'No', 0).otherwise(1))\n",
    "    df = df.withColumn(\"Depressed\", when(df['Depressed'] == \"No\", 0).otherwise(1))\n",
    "    \n",
    "    return df"
   ]
  },
  {
   "cell_type": "code",
   "execution_count": 8,
   "metadata": {},
   "outputs": [
    {
     "name": "stdout",
     "output_type": "stream",
     "text": [
      "+---------------+-------+-------------+---------+\n",
      "|Education Level|Married|Salary Income|Depressed|\n",
      "+---------------+-------+-------------+---------+\n",
      "|              1|      1|     85000000|        0|\n",
      "|              1|      0|     14000000|        0|\n",
      "|              0|      0|    148000000|        1|\n",
      "|              2|      0|     50000000|        1|\n",
      "|              1|      1|    101000000|        0|\n",
      "|              0|      1|    145000000|        1|\n",
      "|              1|      0|     55000000|        1|\n",
      "|              1|      1|     51000000|        0|\n",
      "|              2|      0|     97000000|        1|\n",
      "|              0|      0|     41000000|        1|\n",
      "|              2|      1|     27000000|        0|\n",
      "|              2|      1|      3000000|        0|\n",
      "|              2|      0|      9000000|        1|\n",
      "|              1|      0|     12000000|        1|\n",
      "|              1|      1|     81000000|        0|\n",
      "|              2|      0|     53000000|        1|\n",
      "|              0|      0|     10000000|        1|\n",
      "|              1|      1|     55000000|        0|\n",
      "|              2|      0|     13000000|        1|\n",
      "|              2|      0|     35000000|        1|\n",
      "+---------------+-------+-------------+---------+\n",
      "only showing top 20 rows\n",
      "\n"
     ]
    }
   ],
   "source": [
    "df_train = transform(df_train)\n",
    "df_test = transform(df_test)\n",
    "df_train.show()"
   ]
  },
  {
   "cell_type": "code",
   "execution_count": 9,
   "metadata": {},
   "outputs": [],
   "source": [
    "def normalize(df):\n",
    "    cols = df.columns\n",
    "    cols.remove('Depressed')\n",
    "    \n",
    "    df = VectorAssembler(inputCols = cols, outputCol='Features').transform(df)\n",
    "    df = StandardScaler(inputCol = 'Features', outputCol = 'Scaled Features').fit(df).transform(df)\n",
    "    \n",
    "    return df"
   ]
  },
  {
   "cell_type": "code",
   "execution_count": 10,
   "metadata": {},
   "outputs": [
    {
     "name": "stdout",
     "output_type": "stream",
     "text": [
      "+---------------+-------+-------------+---------+-------------------+--------------------+\n",
      "|Education Level|Married|Salary Income|Depressed|           Features|     Scaled Features|\n",
      "+---------------+-------+-------------+---------+-------------------+--------------------+\n",
      "|              1|      1|     85000000|        0|    [1.0,1.0,8.5E7]|[1.29595742362073...|\n",
      "|              1|      0|     14000000|        0|    [1.0,0.0,1.4E7]|[1.29595742362073...|\n",
      "|              0|      0|    148000000|        1|   [0.0,0.0,1.48E8]|[0.0,0.0,3.572913...|\n",
      "|              2|      0|     50000000|        1|    [2.0,0.0,5.0E7]|[2.59191484724147...|\n",
      "|              1|      1|    101000000|        0|   [1.0,1.0,1.01E8]|[1.29595742362073...|\n",
      "|              0|      1|    145000000|        1|   [0.0,1.0,1.45E8]|[0.0,2.0004291810...|\n",
      "|              1|      0|     55000000|        1|    [1.0,0.0,5.5E7]|[1.29595742362073...|\n",
      "|              1|      1|     51000000|        0|    [1.0,1.0,5.1E7]|[1.29595742362073...|\n",
      "|              2|      0|     97000000|        1|    [2.0,0.0,9.7E7]|[2.59191484724147...|\n",
      "|              0|      0|     41000000|        1|    [0.0,0.0,4.1E7]|[0.0,0.0,0.989793...|\n",
      "|              2|      1|     27000000|        0|    [2.0,1.0,2.7E7]|[2.59191484724147...|\n",
      "|              2|      1|      3000000|        0|[2.0,1.0,3000000.0]|[2.59191484724147...|\n",
      "|              2|      0|      9000000|        1|[2.0,0.0,9000000.0]|[2.59191484724147...|\n",
      "|              1|      0|     12000000|        1|    [1.0,0.0,1.2E7]|[1.29595742362073...|\n",
      "|              1|      1|     81000000|        0|    [1.0,1.0,8.1E7]|[1.29595742362073...|\n",
      "|              2|      0|     53000000|        1|    [2.0,0.0,5.3E7]|[2.59191484724147...|\n",
      "|              0|      0|     10000000|        1|    [0.0,0.0,1.0E7]|[0.0,0.0,0.241413...|\n",
      "|              1|      1|     55000000|        0|    [1.0,1.0,5.5E7]|[1.29595742362073...|\n",
      "|              2|      0|     13000000|        1|    [2.0,0.0,1.3E7]|[2.59191484724147...|\n",
      "|              2|      0|     35000000|        1|    [2.0,0.0,3.5E7]|[2.59191484724147...|\n",
      "+---------------+-------+-------------+---------+-------------------+--------------------+\n",
      "only showing top 20 rows\n",
      "\n"
     ]
    }
   ],
   "source": [
    "df_train = normalize(df_train)\n",
    "df_test = normalize(df_test)\n",
    "df_train.show()"
   ]
  },
  {
   "cell_type": "code",
   "execution_count": 11,
   "metadata": {},
   "outputs": [
    {
     "name": "stdout",
     "output_type": "stream",
     "text": [
      "+---------------+-------+-------------+---------+-------------------+--------------------+--------------------+--------------------+----------+\n",
      "|Education Level|Married|Salary Income|Depressed|           Features|     Scaled Features|       rawPrediction|         probability|prediction|\n",
      "+---------------+-------+-------------+---------+-------------------+--------------------+--------------------+--------------------+----------+\n",
      "|              0|      0|     74000000|        1|    [0.0,0.0,7.4E7]|[0.0,0.0,1.803968...|[-1.9261546431117...|[0.12717681419040...|       1.0|\n",
      "|              2|      1|     29000000|        0|    [2.0,1.0,2.9E7]|[2.54974382356388...|[1.65744753049940...|[0.83989506676115...|       0.0|\n",
      "|              1|      1|    134000000|        0|   [1.0,1.0,1.34E8]|[1.27487191178194...|[2.65562370463603...|[0.93435675966068...|       0.0|\n",
      "|              1|      0|     13000000|        1|    [1.0,0.0,1.3E7]|[1.27487191178194...|[-2.2037390843082...|[0.09941522026129...|       1.0|\n",
      "|              0|      1|      7000000|        1|[0.0,1.0,7000000.0]|[0.0,1.9995039364...|[-0.1456838040023...|[0.46364332840392...|       1.0|\n",
      "|              1|      0|    106000000|        1|   [1.0,0.0,1.06E8]|[1.27487191178194...|[-0.6806701942303...|[0.33611173860558...|       1.0|\n",
      "|              2|      0|     35000000|        1|    [2.0,0.0,3.5E7]|[2.54974382356388...|[-1.1220254838223...|[0.24563577041096...|       1.0|\n",
      "|              2|      1|    124000000|        0|   [2.0,1.0,1.24E8]|[2.54974382356388...|[3.21327059025641...|[0.96133063023708...|       0.0|\n",
      "|              0|      0|      7000000|        1|[0.0,0.0,7000000.0]|[0.0,0.0,0.170645...|[-3.0234193273614...|[0.04637900972759...|       1.0|\n",
      "|              0|      0|    122000000|        1|   [0.0,0.0,1.22E8]|[0.0,0.0,2.974110...|[-1.1400545708134...|[0.24231034187014...|       1.0|\n",
      "|              2|      0|    109000000|        1|   [2.0,0.0,1.09E8]|[2.54974382356388...|[0.08987879430412...|[0.52245458456309...|       0.0|\n",
      "|              1|      1|    136000000|        0|   [1.0,1.0,1.36E8]|[1.27487191178194...|[2.68837787431512...|[0.93633735563242...|       0.0|\n",
      "|              0|      1|      4000000|        0|[0.0,1.0,4000000.0]|[0.0,1.9995039364...|[-0.1948150585209...|[0.45144969044367...|       1.0|\n",
      "|              1|      1|     18000000|        0|    [1.0,1.0,1.8E7]|[1.27487191178194...|[0.75588186324852...|[0.68045897475184...|       0.0|\n",
      "|              1|      1|     35000000|        0|    [1.0,1.0,3.5E7]|[1.27487191178194...|[1.03429230552083...|[0.73774720214431...|       0.0|\n",
      "|              2|      0|     73000000|        0|    [2.0,0.0,7.3E7]|[2.54974382356388...|[-0.4996962599195...|[0.37761205149917...|       1.0|\n",
      "|              2|      1|     60000000|        0|    [2.0,1.0,6.0E7]|[2.54974382356388...|[2.16513716052537...|[0.89707483911952...|       0.0|\n",
      "|              0|      0|     57000000|        1|    [0.0,0.0,5.7E7]|[0.0,0.0,1.389543...|[-2.2045650853840...|[0.09934129133596...|       1.0|\n",
      "|              0|      0|     57000000|        1|    [0.0,0.0,5.7E7]|[0.0,0.0,1.389543...|[-2.2045650853840...|[0.09934129133596...|       1.0|\n",
      "|              1|      1|     84000000|        0|    [1.0,1.0,8.4E7]|[1.27487191178194...|[1.83676946265865...|[0.86256618929532...|       0.0|\n",
      "+---------------+-------+-------------+---------+-------------------+--------------------+--------------------+--------------------+----------+\n",
      "only showing top 20 rows\n",
      "\n"
     ]
    }
   ],
   "source": [
    "model = LogisticRegression(featuresCol = \"Scaled Features\", labelCol = \"Depressed\").fit(df_train)\n",
    "prediction = model.transform(df_test)\n",
    "prediction.show()"
   ]
  },
  {
   "cell_type": "code",
   "execution_count": 12,
   "metadata": {},
   "outputs": [
    {
     "name": "stdout",
     "output_type": "stream",
     "text": [
      "87.06157923010207\n"
     ]
    }
   ],
   "source": [
    "evaluator = BinaryClassificationEvaluator(labelCol = 'Depressed')\n",
    "print(evaluator.evaluate(prediction) * 100)"
   ]
  }
 ],
 "metadata": {
  "kernelspec": {
   "display_name": "Python 3",
   "language": "python",
   "name": "python3"
  },
  "language_info": {
   "codemirror_mode": {
    "name": "ipython",
    "version": 3
   },
   "file_extension": ".py",
   "mimetype": "text/x-python",
   "name": "python",
   "nbconvert_exporter": "python",
   "pygments_lexer": "ipython3",
   "version": "3.7.4"
  }
 },
 "nbformat": 4,
 "nbformat_minor": 2
}
