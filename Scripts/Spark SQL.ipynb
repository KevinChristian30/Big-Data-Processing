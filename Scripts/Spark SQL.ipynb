{
 "cells": [
  {
   "cell_type": "code",
   "execution_count": 5,
   "metadata": {},
   "outputs": [],
   "source": [
    "from pyspark.sql import SparkSession"
   ]
  },
  {
   "cell_type": "code",
   "execution_count": 9,
   "metadata": {},
   "outputs": [],
   "source": [
    "spark = SparkSession.builder.getOrCreate()"
   ]
  },
  {
   "cell_type": "code",
   "execution_count": 25,
   "metadata": {},
   "outputs": [
    {
     "name": "stdout",
     "output_type": "stream",
     "text": [
      "+--------------------+----------+\n",
      "|           RamenName|RamenPrice|\n",
      "+--------------------+----------+\n",
      "|Ppushu Ppushu Noo...|     11000|\n",
      "|Super Cup Torigaw...|     11000|\n",
      "|Volcano Curry Kko...|     11000|\n",
      "|Delight Tomato Fl...|     11000|\n",
      "|MeeKuali Bihun Su...|     11000|\n",
      "|Chicken Taco Flav...|     11000|\n",
      "|Penang Hokkien Pr...|     11000|\n",
      "|Nutri-licious Paz...|     11000|\n",
      "|Donbei Kamodashi ...|     11000|\n",
      "|Mi Segera Mmm... ...|     11000|\n",
      "|Noodles Beef Flavour|     11000|\n",
      "|Chongqing Noodles...|     11000|\n",
      "|Cup Noodles With ...|     11000|\n",
      "|Artificial Beef W...|     11000|\n",
      "|Instant Noodles C...|     11000|\n",
      "|Sazon Casero Sopa...|     11000|\n",
      "|Demae Ramen Sesam...|     11000|\n",
      "|Cup Noodle Light+...|     11000|\n",
      "|Artificial Roaste...|     11000|\n",
      "|Vegetarian Instan...|     11000|\n",
      "+--------------------+----------+\n",
      "only showing top 20 rows\n",
      "\n"
     ]
    }
   ],
   "source": [
    "msRamen = spark.read.option(\"inferSchema\", \"true\").csv(\"MsRamen.csv\", header=True)\n",
    "# msRamen.show()\n",
    "# msRamen.show(5)\n",
    "# msRamen.show(5, truncate=False)\n",
    "# msRamen.select('RamenName', 'RamenPrice').show()\n",
    "# msRamen.select('RamenName', 'RamenPrice').filter(msRamen.RamenPrice < 10000).show(5)\n",
    "\n",
    "msRamen.createOrReplaceTempView(\"MsRamen\")\n",
    "\n",
    "query = \"SELECT RamenName, RamenPrice FROM MsRamen WHERE RamenPrice > 10000 ORDER BY RamenPrice ASC\"\n",
    "\n",
    "spark.sql(query).show()"
   ]
  }
 ],
 "metadata": {
  "kernelspec": {
   "display_name": "Python 3",
   "language": "python",
   "name": "python3"
  },
  "language_info": {
   "codemirror_mode": {
    "name": "ipython",
    "version": 3
   },
   "file_extension": ".py",
   "mimetype": "text/x-python",
   "name": "python",
   "nbconvert_exporter": "python",
   "pygments_lexer": "ipython3",
   "version": "3.7.4"
  }
 },
 "nbformat": 4,
 "nbformat_minor": 2
}
