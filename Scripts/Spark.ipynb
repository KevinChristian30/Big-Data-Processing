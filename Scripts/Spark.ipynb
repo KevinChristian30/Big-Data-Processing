{
 "cells": [
  {
   "cell_type": "code",
   "execution_count": 7,
   "metadata": {},
   "outputs": [],
   "source": [
    "from pyspark.sql import SparkSession\n",
    "\n",
    "spark = SparkSession.builder.getOrCreate()"
   ]
  },
  {
   "cell_type": "code",
   "execution_count": 9,
   "metadata": {},
   "outputs": [],
   "source": [
    "data = spark.sparkContext.parallelize([1, 3, 5, 8, 12, 15, 5, 20])"
   ]
  },
  {
   "cell_type": "code",
   "execution_count": 26,
   "metadata": {},
   "outputs": [
    {
     "data": {
      "text/plain": [
       "16"
      ]
     },
     "execution_count": 26,
     "metadata": {},
     "output_type": "execute_result"
    }
   ],
   "source": [
    "# Transformation (Ubah setiap elemen di RDD)\n",
    "def plus(num):\n",
    "    return num + num\n",
    "\n",
    "# newData = data.map(plus)\n",
    "# newData.collect()\n",
    "\n",
    "# newData = data.map(lambda num: num * num)\n",
    "# newData.collect()\n",
    "\n",
    "# filteredData = data.filter(lambda num: num < 5)\n",
    "# filteredData.collect()\n",
    "\n",
    "# distinctData = data.distinct();\n",
    "# distinctData.collect()\n",
    "\n",
    "# sortedData = data.sortBy(lambda num: num, True)\n",
    "# sortedData.collect()\n",
    "\n",
    "flattenedMap = data.flatMap(lambda num: (num, 10))\n",
    "# flattenedMap.collect()\n",
    "# flattenedMap.first()\n",
    "# flattenedMap.take(5)\n",
    "# flattenedMap.top(4)\n",
    "flattenedMap.count()"
   ]
  }
 ],
 "metadata": {
  "kernelspec": {
   "display_name": "Python 3",
   "language": "python",
   "name": "python3"
  },
  "language_info": {
   "codemirror_mode": {
    "name": "ipython",
    "version": 3
   },
   "file_extension": ".py",
   "mimetype": "text/x-python",
   "name": "python",
   "nbconvert_exporter": "python",
   "pygments_lexer": "ipython3",
   "version": "3.7.4"
  }
 },
 "nbformat": 4,
 "nbformat_minor": 2
}
